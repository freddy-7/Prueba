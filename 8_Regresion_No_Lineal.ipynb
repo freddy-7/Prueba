{
  "nbformat": 4,
  "nbformat_minor": 0,
  "metadata": {
    "colab": {
      "provenance": [],
      "authorship_tag": "ABX9TyMLSW3k8TU3lq0D0ldIDXlR",
      "include_colab_link": true
    },
    "kernelspec": {
      "name": "python3",
      "display_name": "Python 3"
    },
    "language_info": {
      "name": "python"
    }
  },
  "cells": [
    {
      "cell_type": "markdown",
      "metadata": {
        "id": "view-in-github",
        "colab_type": "text"
      },
      "source": [
        "<a href=\"https://colab.research.google.com/github/freddy-7/Prueba/blob/main/8_Regresion_No_Lineal.ipynb\" target=\"_parent\"><img src=\"https://colab.research.google.com/assets/colab-badge.svg\" alt=\"Open In Colab\"/></a>"
      ]
    },
    {
      "cell_type": "code",
      "execution_count": 1,
      "metadata": {
        "id": "ybmE8-NEkuJ3"
      },
      "outputs": [],
      "source": [
        "#Cargamos librerias\n",
        "import numpy as np\n",
        "import matplotlib.pyplot as plt\n",
        "import scipy.special as special\n",
        "from scipy.optimize import curve_fit\n",
        "import seaborn as sns\n",
        "from sklearn.metrics import r2_score"
      ]
    },
    {
      "cell_type": "code",
      "source": [
        "#Cargar archivo csv desde seaborn\n",
        "df=sns.load_dataset(name='car_crashes')\n",
        "df.head(5)"
      ],
      "metadata": {
        "id": "sbXQYmpHlKoP"
      },
      "execution_count": null,
      "outputs": []
    },
    {
      "cell_type": "code",
      "source": [
        "#Graficamos todas las dispersiones entre todas las variables\n",
        "sns.pairplot(df)"
      ],
      "metadata": {
        "id": "ReRRSAjslNDp"
      },
      "execution_count": null,
      "outputs": []
    },
    {
      "cell_type": "code",
      "source": [
        "#Declaramos las variables dependientes e independientes para la regresión No lineal\n",
        "Vars_Indep= df[['ins_losses']]\n",
        "Var_Dep= df['total']"
      ],
      "metadata": {
        "id": "HBjkXQoklTNx"
      },
      "execution_count": 4,
      "outputs": []
    },
    {
      "cell_type": "code",
      "source": [
        "#Redefinimos las variables \n",
        "x= Vars_Indep\n",
        "y= Var_Dep"
      ],
      "metadata": {
        "id": "RJrVmqIOlVjk"
      },
      "execution_count": 5,
      "outputs": []
    },
    {
      "cell_type": "markdown",
      "source": [
        "   ** Usamos las siguientes ecuaciones como funciones de ajuste.**\n",
        "\n",
        "            y = ax^2 + bx + c\n",
        "\n",
        "            y = ax^3 + bx + c\n",
        "\n",
        "            y = ax^3 + bx^2 + c\n",
        "\n",
        "            y = a*exp(bx) + c"
      ],
      "metadata": {
        "id": "5qfLg3ZhlYyG"
      }
    },
    {
      "cell_type": "markdown",
      "source": [
        "**MODELO 1**"
      ],
      "metadata": {
        "id": "TQsyjXp8ldFS"
      }
    },
    {
      "cell_type": "code",
      "source": [
        "def  func1 (x, a, b, c):\n",
        "     return a*x**2 + b*x + c"
      ],
      "metadata": {
        "id": "VkroAdDZlal0"
      },
      "execution_count": 6,
      "outputs": []
    },
    {
      "cell_type": "code",
      "source": [
        "#Ajustamos los parámetros de la función curve_fit\n",
        "parametros, covs= curve_fit(func1, df['ins_losses'], df['total'])"
      ],
      "metadata": {
        "id": "_sZhZfGal0LK"
      },
      "execution_count": 7,
      "outputs": []
    },
    {
      "cell_type": "code",
      "source": [
        "#Obtenemos los coeficientes del modelo de regresión no lineal\n",
        "parametros"
      ],
      "metadata": {
        "colab": {
          "base_uri": "https://localhost:8080/"
        },
        "id": "bSCce0xSl2Mi",
        "outputId": "f8d8f6fa-9345-4076-d3e7-662ca6f0e62e"
      },
      "execution_count": 8,
      "outputs": [
        {
          "output_type": "execute_result",
          "data": {
            "text/plain": [
              "array([ 6.31404246e-04, -1.78288232e-01,  2.79658165e+01])"
            ]
          },
          "metadata": {},
          "execution_count": 8
        }
      ]
    },
    {
      "cell_type": "code",
      "source": [
        "#Creamos el modelo de predicción con los parámetros obtenidos \n",
        "parametros, _ = curve_fit(func1, df['ins_losses'], df['total'])\n",
        "a, b, c = parametros[ 0 ], parametros[ 1 ], parametros[ 2 ]\n",
        "yfit1 = a * x ** 2 + b * x + c"
      ],
      "metadata": {
        "id": "5-LYx1lTmA44"
      },
      "execution_count": 9,
      "outputs": []
    },
    {
      "cell_type": "code",
      "source": [
        "#Calculamos las predicciones y reestructuramos el vector de predicciones\n",
        "#x= x.reshape(51, 1)\n",
        "#y = y.reshape(51, 1)\n",
        "#yfit1 = yfit1.reshape(51, 1)\n",
        "yfit1"
      ],
      "metadata": {
        "id": "97P9JO5WmD7I"
      },
      "execution_count": null,
      "outputs": []
    },
    {
      "cell_type": "code",
      "source": [
        "#Graficamos las predicciones y los datos originales para realizar la comparación\n",
        "plt.plot(x, y, 'bo', label=\"y-original\")\n",
        "plt.plot(x, yfit1, label=\"y=a*x^2+b*x+c\")\n",
        "plt.xlabel('x')\n",
        "plt.ylabel('y')\n",
        "plt.legend(loc='best', fancybox=True, shadow=True)\n",
        "plt.grid(True)\n",
        "plt.show() "
      ],
      "metadata": {
        "id": "bBVTnlR5mD1P"
      },
      "execution_count": null,
      "outputs": []
    },
    {
      "cell_type": "code",
      "source": [
        "#Calculamos el coeficiente de determinación del modelo\n",
        "\n",
        "R2 = r2_score(y, yfit1) \n",
        "R2"
      ],
      "metadata": {
        "colab": {
          "base_uri": "https://localhost:8080/"
        },
        "id": "-5q6nlnMmPH7",
        "outputId": "7b02078c-f15d-4431-d3eb-247155adf471"
      },
      "execution_count": 12,
      "outputs": [
        {
          "output_type": "execute_result",
          "data": {
            "text/plain": [
              "0.017528478101237477"
            ]
          },
          "metadata": {},
          "execution_count": 12
        }
      ]
    }
  ]
}