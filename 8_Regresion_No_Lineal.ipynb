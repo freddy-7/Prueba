{
  "nbformat": 4,
  "nbformat_minor": 0,
  "metadata": {
    "colab": {
      "provenance": [],
      "authorship_tag": "ABX9TyPtxCgl8oa2BhVSJpxlz/G8",
      "include_colab_link": true
    },
    "kernelspec": {
      "name": "python3",
      "display_name": "Python 3"
    },
    "language_info": {
      "name": "python"
    }
  },
  "cells": [
    {
      "cell_type": "markdown",
      "metadata": {
        "id": "view-in-github",
        "colab_type": "text"
      },
      "source": [
        "<a href=\"https://colab.research.google.com/github/freddy-7/Prueba/blob/main/8_Regresion_No_Lineal.ipynb\" target=\"_parent\"><img src=\"https://colab.research.google.com/assets/colab-badge.svg\" alt=\"Open In Colab\"/></a>"
      ]
    },
    {
      "cell_type": "code",
      "execution_count": 2,
      "metadata": {
        "id": "ybmE8-NEkuJ3"
      },
      "outputs": [],
      "source": [
        "#Cargamos librerias\n",
        "import numpy as np\n",
        "import matplotlib.pyplot as plt\n",
        "import scipy.special as special\n",
        "from scipy.optimize import curve_fit\n",
        "import seaborn as sns\n",
        "from sklearn.metrics import r2_score"
      ]
    },
    {
      "cell_type": "code",
      "source": [
        "#Cargar archivo csv desde seaborn\n",
        "df=sns.load_dataset(name='car_crashes')\n",
        "df.head(5)"
      ],
      "metadata": {
        "id": "sbXQYmpHlKoP"
      },
      "execution_count": null,
      "outputs": []
    },
    {
      "cell_type": "code",
      "source": [
        "#Graficamos todas las dispersiones entre todas las variables\n",
        "sns.pairplot(df)"
      ],
      "metadata": {
        "id": "ReRRSAjslNDp"
      },
      "execution_count": null,
      "outputs": []
    },
    {
      "cell_type": "code",
      "source": [
        "#Declaramos las variables dependientes e independientes para la regresión No lineal\n",
        "Vars_Indep= df[['ins_losses']]\n",
        "Var_Dep= df['total']"
      ],
      "metadata": {
        "id": "HBjkXQoklTNx"
      },
      "execution_count": 13,
      "outputs": []
    },
    {
      "cell_type": "code",
      "source": [
        "#Redefinimos las variables \n",
        "x= Vars_Indep\n",
        "y= Var_Dep"
      ],
      "metadata": {
        "id": "RJrVmqIOlVjk"
      },
      "execution_count": 14,
      "outputs": []
    },
    {
      "cell_type": "markdown",
      "source": [
        "   ** Usamos las siguientes ecuaciones como funciones de ajuste.**\n",
        "\n",
        "            y = ax^2 + bx + c\n",
        "\n",
        "            y = ax^3 + bx + c\n",
        "\n",
        "            y = ax^3 + bx^2 + c\n",
        "\n",
        "            y = a*exp(bx) + c"
      ],
      "metadata": {
        "id": "5qfLg3ZhlYyG"
      }
    },
    {
      "cell_type": "markdown",
      "source": [
        "**MODELO 1**"
      ],
      "metadata": {
        "id": "TQsyjXp8ldFS"
      }
    },
    {
      "cell_type": "code",
      "source": [
        "def  func1 (x, a, b, c):\n",
        "     return a*x**2 + b*x + c"
      ],
      "metadata": {
        "id": "VkroAdDZlal0"
      },
      "execution_count": 15,
      "outputs": []
    },
    {
      "cell_type": "code",
      "source": [
        "#Ajustamos los parámetros de la función curve_fit\n",
        "parametros, covs= curve_fit(func1, df['ins_losses'], df['total'])"
      ],
      "metadata": {
        "id": "_sZhZfGal0LK"
      },
      "execution_count": 17,
      "outputs": []
    },
    {
      "cell_type": "code",
      "source": [
        "#Obtenemos los coeficientes del modelo de regresión no lineal\n",
        "parametros"
      ],
      "metadata": {
        "colab": {
          "base_uri": "https://localhost:8080/"
        },
        "id": "bSCce0xSl2Mi",
        "outputId": "338aca6b-142f-4b65-c886-f97e2bc7269a"
      },
      "execution_count": 18,
      "outputs": [
        {
          "output_type": "execute_result",
          "data": {
            "text/plain": [
              "array([ 6.31404246e-04, -1.78288232e-01,  2.79658165e+01])"
            ]
          },
          "metadata": {},
          "execution_count": 18
        }
      ]
    },
    {
      "cell_type": "code",
      "source": [
        "#Creamos el modelo de predicción con los parámetros obtenidos \n",
        "parametros, _ = curve_fit(func1, df['ins_losses'], df['total'])\n",
        "a, b, c = parametros[ 0 ], parametros[ 1 ], parametros[ 2 ]\n",
        "yfit1 = a * x ** 2 + b * x + c"
      ],
      "metadata": {
        "id": "5-LYx1lTmA44"
      },
      "execution_count": 19,
      "outputs": []
    },
    {
      "cell_type": "code",
      "source": [
        "#Calculamos las predicciones y reestructuramos el vector de predicciones\n",
        "#x= x.reshape(51, 1)\n",
        "#y = y.reshape(51, 1)\n",
        "#yfit1 = yfit1.reshape(51, 1)\n",
        "yfit1"
      ],
      "metadata": {
        "colab": {
          "base_uri": "https://localhost:8080/",
          "height": 1000
        },
        "id": "97P9JO5WmD7I",
        "outputId": "ed03c400-b13a-4dee-960a-70d87d8178d5"
      },
      "execution_count": 20,
      "outputs": [
        {
          "output_type": "execute_result",
          "data": {
            "text/plain": [
              "    ins_losses\n",
              "0    15.389687\n",
              "1    15.413326\n",
              "2    15.980397\n",
              "3    15.381021\n",
              "4    15.757437\n",
              "5    15.381127\n",
              "6    15.801567\n",
              "7    15.447037\n",
              "8    15.396744\n",
              "9    15.385770\n",
              "10   15.381751\n",
              "11   15.639373\n",
              "12   17.536045\n",
              "13   15.382714\n",
              "14   16.037369\n",
              "15   15.830693\n",
              "16   15.414528\n",
              "17   15.390479\n",
              "18   17.193837\n",
              "19   16.636850\n",
              "20   17.055791\n",
              "21   15.399578\n",
              "22   15.457563\n",
              "23   15.418852\n",
              "24   15.514436\n",
              "25   15.386838\n",
              "26   17.362584\n",
              "27   15.818963\n",
              "28   15.383967\n",
              "29   15.657860\n",
              "30   15.600098\n",
              "31   15.643742\n",
              "32   15.429289\n",
              "33   15.492867\n",
              "34   16.005178\n",
              "35   15.417188\n",
              "36   16.276373\n",
              "37   16.224700\n",
              "38   15.481558\n",
              "39   15.414642\n",
              "40   15.771388\n",
              "41   16.620005\n",
              "42   15.510778\n",
              "43   15.534670\n",
              "44   16.014750\n",
              "45   16.009556\n",
              "46   15.479330\n",
              "47   15.931965\n",
              "48   15.461816\n",
              "49   16.134418\n",
              "50   15.611505"
            ],
            "text/html": [
              "\n",
              "  <div id=\"df-ef24e0b8-2956-40b3-ade3-1927d6ab329c\">\n",
              "    <div class=\"colab-df-container\">\n",
              "      <div>\n",
              "<style scoped>\n",
              "    .dataframe tbody tr th:only-of-type {\n",
              "        vertical-align: middle;\n",
              "    }\n",
              "\n",
              "    .dataframe tbody tr th {\n",
              "        vertical-align: top;\n",
              "    }\n",
              "\n",
              "    .dataframe thead th {\n",
              "        text-align: right;\n",
              "    }\n",
              "</style>\n",
              "<table border=\"1\" class=\"dataframe\">\n",
              "  <thead>\n",
              "    <tr style=\"text-align: right;\">\n",
              "      <th></th>\n",
              "      <th>ins_losses</th>\n",
              "    </tr>\n",
              "  </thead>\n",
              "  <tbody>\n",
              "    <tr>\n",
              "      <th>0</th>\n",
              "      <td>15.389687</td>\n",
              "    </tr>\n",
              "    <tr>\n",
              "      <th>1</th>\n",
              "      <td>15.413326</td>\n",
              "    </tr>\n",
              "    <tr>\n",
              "      <th>2</th>\n",
              "      <td>15.980397</td>\n",
              "    </tr>\n",
              "    <tr>\n",
              "      <th>3</th>\n",
              "      <td>15.381021</td>\n",
              "    </tr>\n",
              "    <tr>\n",
              "      <th>4</th>\n",
              "      <td>15.757437</td>\n",
              "    </tr>\n",
              "    <tr>\n",
              "      <th>5</th>\n",
              "      <td>15.381127</td>\n",
              "    </tr>\n",
              "    <tr>\n",
              "      <th>6</th>\n",
              "      <td>15.801567</td>\n",
              "    </tr>\n",
              "    <tr>\n",
              "      <th>7</th>\n",
              "      <td>15.447037</td>\n",
              "    </tr>\n",
              "    <tr>\n",
              "      <th>8</th>\n",
              "      <td>15.396744</td>\n",
              "    </tr>\n",
              "    <tr>\n",
              "      <th>9</th>\n",
              "      <td>15.385770</td>\n",
              "    </tr>\n",
              "    <tr>\n",
              "      <th>10</th>\n",
              "      <td>15.381751</td>\n",
              "    </tr>\n",
              "    <tr>\n",
              "      <th>11</th>\n",
              "      <td>15.639373</td>\n",
              "    </tr>\n",
              "    <tr>\n",
              "      <th>12</th>\n",
              "      <td>17.536045</td>\n",
              "    </tr>\n",
              "    <tr>\n",
              "      <th>13</th>\n",
              "      <td>15.382714</td>\n",
              "    </tr>\n",
              "    <tr>\n",
              "      <th>14</th>\n",
              "      <td>16.037369</td>\n",
              "    </tr>\n",
              "    <tr>\n",
              "      <th>15</th>\n",
              "      <td>15.830693</td>\n",
              "    </tr>\n",
              "    <tr>\n",
              "      <th>16</th>\n",
              "      <td>15.414528</td>\n",
              "    </tr>\n",
              "    <tr>\n",
              "      <th>17</th>\n",
              "      <td>15.390479</td>\n",
              "    </tr>\n",
              "    <tr>\n",
              "      <th>18</th>\n",
              "      <td>17.193837</td>\n",
              "    </tr>\n",
              "    <tr>\n",
              "      <th>19</th>\n",
              "      <td>16.636850</td>\n",
              "    </tr>\n",
              "    <tr>\n",
              "      <th>20</th>\n",
              "      <td>17.055791</td>\n",
              "    </tr>\n",
              "    <tr>\n",
              "      <th>21</th>\n",
              "      <td>15.399578</td>\n",
              "    </tr>\n",
              "    <tr>\n",
              "      <th>22</th>\n",
              "      <td>15.457563</td>\n",
              "    </tr>\n",
              "    <tr>\n",
              "      <th>23</th>\n",
              "      <td>15.418852</td>\n",
              "    </tr>\n",
              "    <tr>\n",
              "      <th>24</th>\n",
              "      <td>15.514436</td>\n",
              "    </tr>\n",
              "    <tr>\n",
              "      <th>25</th>\n",
              "      <td>15.386838</td>\n",
              "    </tr>\n",
              "    <tr>\n",
              "      <th>26</th>\n",
              "      <td>17.362584</td>\n",
              "    </tr>\n",
              "    <tr>\n",
              "      <th>27</th>\n",
              "      <td>15.818963</td>\n",
              "    </tr>\n",
              "    <tr>\n",
              "      <th>28</th>\n",
              "      <td>15.383967</td>\n",
              "    </tr>\n",
              "    <tr>\n",
              "      <th>29</th>\n",
              "      <td>15.657860</td>\n",
              "    </tr>\n",
              "    <tr>\n",
              "      <th>30</th>\n",
              "      <td>15.600098</td>\n",
              "    </tr>\n",
              "    <tr>\n",
              "      <th>31</th>\n",
              "      <td>15.643742</td>\n",
              "    </tr>\n",
              "    <tr>\n",
              "      <th>32</th>\n",
              "      <td>15.429289</td>\n",
              "    </tr>\n",
              "    <tr>\n",
              "      <th>33</th>\n",
              "      <td>15.492867</td>\n",
              "    </tr>\n",
              "    <tr>\n",
              "      <th>34</th>\n",
              "      <td>16.005178</td>\n",
              "    </tr>\n",
              "    <tr>\n",
              "      <th>35</th>\n",
              "      <td>15.417188</td>\n",
              "    </tr>\n",
              "    <tr>\n",
              "      <th>36</th>\n",
              "      <td>16.276373</td>\n",
              "    </tr>\n",
              "    <tr>\n",
              "      <th>37</th>\n",
              "      <td>16.224700</td>\n",
              "    </tr>\n",
              "    <tr>\n",
              "      <th>38</th>\n",
              "      <td>15.481558</td>\n",
              "    </tr>\n",
              "    <tr>\n",
              "      <th>39</th>\n",
              "      <td>15.414642</td>\n",
              "    </tr>\n",
              "    <tr>\n",
              "      <th>40</th>\n",
              "      <td>15.771388</td>\n",
              "    </tr>\n",
              "    <tr>\n",
              "      <th>41</th>\n",
              "      <td>16.620005</td>\n",
              "    </tr>\n",
              "    <tr>\n",
              "      <th>42</th>\n",
              "      <td>15.510778</td>\n",
              "    </tr>\n",
              "    <tr>\n",
              "      <th>43</th>\n",
              "      <td>15.534670</td>\n",
              "    </tr>\n",
              "    <tr>\n",
              "      <th>44</th>\n",
              "      <td>16.014750</td>\n",
              "    </tr>\n",
              "    <tr>\n",
              "      <th>45</th>\n",
              "      <td>16.009556</td>\n",
              "    </tr>\n",
              "    <tr>\n",
              "      <th>46</th>\n",
              "      <td>15.479330</td>\n",
              "    </tr>\n",
              "    <tr>\n",
              "      <th>47</th>\n",
              "      <td>15.931965</td>\n",
              "    </tr>\n",
              "    <tr>\n",
              "      <th>48</th>\n",
              "      <td>15.461816</td>\n",
              "    </tr>\n",
              "    <tr>\n",
              "      <th>49</th>\n",
              "      <td>16.134418</td>\n",
              "    </tr>\n",
              "    <tr>\n",
              "      <th>50</th>\n",
              "      <td>15.611505</td>\n",
              "    </tr>\n",
              "  </tbody>\n",
              "</table>\n",
              "</div>\n",
              "      <button class=\"colab-df-convert\" onclick=\"convertToInteractive('df-ef24e0b8-2956-40b3-ade3-1927d6ab329c')\"\n",
              "              title=\"Convert this dataframe to an interactive table.\"\n",
              "              style=\"display:none;\">\n",
              "        \n",
              "  <svg xmlns=\"http://www.w3.org/2000/svg\" height=\"24px\"viewBox=\"0 0 24 24\"\n",
              "       width=\"24px\">\n",
              "    <path d=\"M0 0h24v24H0V0z\" fill=\"none\"/>\n",
              "    <path d=\"M18.56 5.44l.94 2.06.94-2.06 2.06-.94-2.06-.94-.94-2.06-.94 2.06-2.06.94zm-11 1L8.5 8.5l.94-2.06 2.06-.94-2.06-.94L8.5 2.5l-.94 2.06-2.06.94zm10 10l.94 2.06.94-2.06 2.06-.94-2.06-.94-.94-2.06-.94 2.06-2.06.94z\"/><path d=\"M17.41 7.96l-1.37-1.37c-.4-.4-.92-.59-1.43-.59-.52 0-1.04.2-1.43.59L10.3 9.45l-7.72 7.72c-.78.78-.78 2.05 0 2.83L4 21.41c.39.39.9.59 1.41.59.51 0 1.02-.2 1.41-.59l7.78-7.78 2.81-2.81c.8-.78.8-2.07 0-2.86zM5.41 20L4 18.59l7.72-7.72 1.47 1.35L5.41 20z\"/>\n",
              "  </svg>\n",
              "      </button>\n",
              "      \n",
              "  <style>\n",
              "    .colab-df-container {\n",
              "      display:flex;\n",
              "      flex-wrap:wrap;\n",
              "      gap: 12px;\n",
              "    }\n",
              "\n",
              "    .colab-df-convert {\n",
              "      background-color: #E8F0FE;\n",
              "      border: none;\n",
              "      border-radius: 50%;\n",
              "      cursor: pointer;\n",
              "      display: none;\n",
              "      fill: #1967D2;\n",
              "      height: 32px;\n",
              "      padding: 0 0 0 0;\n",
              "      width: 32px;\n",
              "    }\n",
              "\n",
              "    .colab-df-convert:hover {\n",
              "      background-color: #E2EBFA;\n",
              "      box-shadow: 0px 1px 2px rgba(60, 64, 67, 0.3), 0px 1px 3px 1px rgba(60, 64, 67, 0.15);\n",
              "      fill: #174EA6;\n",
              "    }\n",
              "\n",
              "    [theme=dark] .colab-df-convert {\n",
              "      background-color: #3B4455;\n",
              "      fill: #D2E3FC;\n",
              "    }\n",
              "\n",
              "    [theme=dark] .colab-df-convert:hover {\n",
              "      background-color: #434B5C;\n",
              "      box-shadow: 0px 1px 3px 1px rgba(0, 0, 0, 0.15);\n",
              "      filter: drop-shadow(0px 1px 2px rgba(0, 0, 0, 0.3));\n",
              "      fill: #FFFFFF;\n",
              "    }\n",
              "  </style>\n",
              "\n",
              "      <script>\n",
              "        const buttonEl =\n",
              "          document.querySelector('#df-ef24e0b8-2956-40b3-ade3-1927d6ab329c button.colab-df-convert');\n",
              "        buttonEl.style.display =\n",
              "          google.colab.kernel.accessAllowed ? 'block' : 'none';\n",
              "\n",
              "        async function convertToInteractive(key) {\n",
              "          const element = document.querySelector('#df-ef24e0b8-2956-40b3-ade3-1927d6ab329c');\n",
              "          const dataTable =\n",
              "            await google.colab.kernel.invokeFunction('convertToInteractive',\n",
              "                                                     [key], {});\n",
              "          if (!dataTable) return;\n",
              "\n",
              "          const docLinkHtml = 'Like what you see? Visit the ' +\n",
              "            '<a target=\"_blank\" href=https://colab.research.google.com/notebooks/data_table.ipynb>data table notebook</a>'\n",
              "            + ' to learn more about interactive tables.';\n",
              "          element.innerHTML = '';\n",
              "          dataTable['output_type'] = 'display_data';\n",
              "          await google.colab.output.renderOutput(dataTable, element);\n",
              "          const docLink = document.createElement('div');\n",
              "          docLink.innerHTML = docLinkHtml;\n",
              "          element.appendChild(docLink);\n",
              "        }\n",
              "      </script>\n",
              "    </div>\n",
              "  </div>\n",
              "  "
            ]
          },
          "metadata": {},
          "execution_count": 20
        }
      ]
    },
    {
      "cell_type": "code",
      "source": [
        "#Graficamos las predicciones y los datos originales para realizar la comparación\n",
        "plt.plot(x, y, 'bo', label=\"y-original\")\n",
        "plt.plot(x, yfit1, label=\"y=a*x^2+b*x+c\")\n",
        "plt.xlabel('x')\n",
        "plt.ylabel('y')\n",
        "plt.legend(loc='best', fancybox=True, shadow=True)\n",
        "plt.grid(True)\n",
        "plt.show() "
      ],
      "metadata": {
        "id": "bBVTnlR5mD1P"
      },
      "execution_count": null,
      "outputs": []
    },
    {
      "cell_type": "code",
      "source": [
        "#Calculamos el coeficiente de determinación del modelo\n",
        "\n",
        "R2 = r2_score(y, yfit1) \n",
        "R2"
      ],
      "metadata": {
        "colab": {
          "base_uri": "https://localhost:8080/"
        },
        "id": "-5q6nlnMmPH7",
        "outputId": "e4702f9f-92cf-4369-9036-765d4d13766f"
      },
      "execution_count": 22,
      "outputs": [
        {
          "output_type": "execute_result",
          "data": {
            "text/plain": [
              "0.017528478101237477"
            ]
          },
          "metadata": {},
          "execution_count": 22
        }
      ]
    },
    {
      "cell_type": "markdown",
      "source": [
        "**MODELO 2**"
      ],
      "metadata": {
        "id": "bh-K1LHlmzBc"
      }
    },
    {
      "cell_type": "code",
      "source": [
        "def func2(x, a, b, c):\n",
        "    return a*np.exp(b*x)+c"
      ],
      "metadata": {
        "id": "_vywyaOem1-x"
      },
      "execution_count": 23,
      "outputs": []
    },
    {
      "cell_type": "code",
      "source": [
        "#Ajustamos los parámetros de la función curve_fit\n",
        "parametros2, covs2= curve_fit(func2, df['ins_losses'], df['total'])"
      ],
      "metadata": {
        "id": "f2LCan8bnU6h"
      },
      "execution_count": null,
      "outputs": []
    },
    {
      "cell_type": "code",
      "source": [
        "#Obtenemos los coeficientes del modelo de regresión no lineal\n",
        "parametros2"
      ],
      "metadata": {
        "colab": {
          "base_uri": "https://localhost:8080/"
        },
        "id": "fdYg_tLbncR3",
        "outputId": "c302f835-8e35-4403-f4c1-ef5783ed5784"
      },
      "execution_count": 25,
      "outputs": [
        {
          "output_type": "execute_result",
          "data": {
            "text/plain": [
              "array([1.67134480e-14, 9.99999998e-01, 1.00000000e+00])"
            ]
          },
          "metadata": {},
          "execution_count": 25
        }
      ]
    },
    {
      "cell_type": "code",
      "source": [
        "#Creamos el modelo de predicción con los parámetros obtenidos \n",
        "parametros2, _ = curve_fit(func2, df['ins_losses'], df['total'])\n",
        "a2, b2, c2 = parametros2[ 0 ], parametros2[ 1 ], parametros2[ 2 ]\n",
        "yfit2 = a2*np.exp(x*b2)+c2"
      ],
      "metadata": {
        "id": "66DJEoq_nfED"
      },
      "execution_count": null,
      "outputs": []
    },
    {
      "cell_type": "code",
      "source": [
        "#Calculamos las predicciones y reestructuramos el vector de predicciones\n",
        "#yfit2 = yfit2.reshape(51, 1)\n",
        "yfit2"
      ],
      "metadata": {
        "id": "-ktqMJdpnmLS"
      },
      "execution_count": null,
      "outputs": []
    },
    {
      "cell_type": "code",
      "source": [
        "#Graficamos las predicciones y los datos originales para realizar la comparación\n",
        "plt.plot(x, y, 'bo', label=\"y-original\")\n",
        "plt.plot(x, yfit2, label=\"a*exp(x*b)+c\")\n",
        "plt.xlabel('x')\n",
        "plt.ylabel('y')\n",
        "plt.legend(loc='best', fancybox=True, shadow=True)\n",
        "plt.grid(True)\n",
        "plt.show() "
      ],
      "metadata": {
        "id": "1KkN4nMWnot7"
      },
      "execution_count": null,
      "outputs": []
    },
    {
      "cell_type": "code",
      "source": [
        "#Calculamos el coeficiente de determinación del modelo\n",
        "R2 = r2_score(y, yfit2) \n",
        "R2"
      ],
      "metadata": {
        "colab": {
          "base_uri": "https://localhost:8080/"
        },
        "id": "1LeZWBMJnsJX",
        "outputId": "7a816a7f-7284-4da3-8ea7-da4e332b00d0"
      },
      "execution_count": 30,
      "outputs": [
        {
          "output_type": "execute_result",
          "data": {
            "text/plain": [
              "-5.09834981244113e+138"
            ]
          },
          "metadata": {},
          "execution_count": 30
        }
      ]
    }
  ]
}